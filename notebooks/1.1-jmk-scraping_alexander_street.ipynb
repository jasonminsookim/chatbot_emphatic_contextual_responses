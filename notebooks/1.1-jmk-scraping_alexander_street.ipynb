{
 "cells": [
  {
   "cell_type": "code",
   "execution_count": 28,
   "metadata": {
    "ExecuteTime": {
     "end_time": "2019-10-31T03:06:37.967385Z",
     "start_time": "2019-10-31T03:06:32.372329Z"
    }
   },
   "outputs": [],
   "source": [
    "from selenium import webdriver\n",
    "from selenium.webdriver.common.keys import Keys\n",
    "\n",
    "driver = webdriver.Chrome()\n",
    "driver.get(\"https://trials.proquest.com/access?token=aDMsVVKpSOPTGTBniSyMafYFO\")"
   ]
  },
  {
   "cell_type": "code",
   "execution_count": 33,
   "metadata": {
    "ExecuteTime": {
     "end_time": "2019-10-31T03:07:23.501608Z",
     "start_time": "2019-10-31T03:07:23.445126Z"
    }
   },
   "outputs": [],
   "source": [
    "body = driver.find_element_by_xpath(\"//html//body\")"
   ]
  },
  {
   "cell_type": "code",
   "execution_count": 35,
   "metadata": {
    "ExecuteTime": {
     "end_time": "2019-10-31T03:07:41.608619Z",
     "start_time": "2019-10-31T03:07:41.551087Z"
    }
   },
   "outputs": [],
   "source": [
    "body.send_keys(Keys.TAB + \" \")"
   ]
  },
  {
   "cell_type": "code",
   "execution_count": 36,
   "metadata": {
    "ExecuteTime": {
     "end_time": "2019-10-31T03:08:18.496032Z",
     "start_time": "2019-10-31T03:08:18.491413Z"
    }
   },
   "outputs": [],
   "source": [
    "# This is impossible because of the anti robot mechanisms"
   ]
  },
  {
   "cell_type": "code",
   "execution_count": null,
   "metadata": {},
   "outputs": [],
   "source": []
  }
 ],
 "metadata": {
  "kernelspec": {
   "display_name": "Python 3",
   "language": "python",
   "name": "python3"
  },
  "language_info": {
   "codemirror_mode": {
    "name": "ipython",
    "version": 3
   },
   "file_extension": ".py",
   "mimetype": "text/x-python",
   "name": "python",
   "nbconvert_exporter": "python",
   "pygments_lexer": "ipython3",
   "version": "3.7.4"
  }
 },
 "nbformat": 4,
 "nbformat_minor": 2
}
