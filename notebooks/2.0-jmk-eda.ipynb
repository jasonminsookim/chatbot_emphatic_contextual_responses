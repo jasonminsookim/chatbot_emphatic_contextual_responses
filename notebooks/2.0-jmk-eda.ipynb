{
 "cells": [
  {
   "cell_type": "code",
   "execution_count": 5,
   "metadata": {
    "ExecuteTime": {
     "end_time": "2019-09-27T19:44:37.695528Z",
     "start_time": "2019-09-27T19:44:28.866937Z"
    },
    "pycharm": {
     "is_executing": false
    }
   },
   "outputs": [
    {
     "name": "stderr",
     "output_type": "stream",
     "text": [
      "/Users/jasonkim/.conda/envs/chatbot_emphatic_contextual_responses/lib/python3.7/site-packages/IPython/core/interactiveshell.py:3058: DtypeWarning: Columns (0,2) have mixed types. Specify dtype option on import or set low_memory=False.\n",
      "  interactivity=interactivity, compiler=compiler, result=result)\n"
     ]
    }
   ],
   "source": [
    "import pandas as pd\n",
    "import seaborn as sns\n",
    "\n",
    "\n",
    "df = pd.read_csv(\"../data/scraped_data/reddit_submissions_comments.csv\")\n",
    "\n"
   ]
  },
  {
   "cell_type": "code",
   "execution_count": 6,
   "metadata": {
    "ExecuteTime": {
     "end_time": "2019-09-27T19:44:38.054897Z",
     "start_time": "2019-09-27T19:44:37.713060Z"
    },
    "pycharm": {
     "is_executing": false,
     "name": "#%%\n"
    }
   },
   "outputs": [
    {
     "data": {
      "text/html": [
       "<div>\n",
       "<style scoped>\n",
       "    .dataframe tbody tr th:only-of-type {\n",
       "        vertical-align: middle;\n",
       "    }\n",
       "\n",
       "    .dataframe tbody tr th {\n",
       "        vertical-align: top;\n",
       "    }\n",
       "\n",
       "    .dataframe thead th {\n",
       "        text-align: right;\n",
       "    }\n",
       "</style>\n",
       "<table border=\"1\" class=\"dataframe\">\n",
       "  <thead>\n",
       "    <tr style=\"text-align: right;\">\n",
       "      <th></th>\n",
       "      <th>author</th>\n",
       "      <th>score</th>\n",
       "      <th>created</th>\n",
       "      <th>subreddit</th>\n",
       "      <th>title</th>\n",
       "      <th>body</th>\n",
       "      <th>id</th>\n",
       "      <th>comment_author</th>\n",
       "      <th>comment_body</th>\n",
       "      <th>comment_score</th>\n",
       "      <th>comment_edited</th>\n",
       "    </tr>\n",
       "  </thead>\n",
       "  <tbody>\n",
       "    <tr>\n",
       "      <td>0</td>\n",
       "      <td>allthatglitters221</td>\n",
       "      <td>5863</td>\n",
       "      <td>2019-07-25 04:51:58</td>\n",
       "      <td>depression</td>\n",
       "      <td>For every upvote I get on this post, I'll stay...</td>\n",
       "      <td>I know it's baity. But honestly I'm desperate ...</td>\n",
       "      <td>chj5ux</td>\n",
       "      <td>NaN</td>\n",
       "      <td>[removed]</td>\n",
       "      <td>357.0</td>\n",
       "      <td>False</td>\n",
       "    </tr>\n",
       "    <tr>\n",
       "      <td>1</td>\n",
       "      <td>allthatglitters221</td>\n",
       "      <td>5863</td>\n",
       "      <td>2019-07-25 04:51:58</td>\n",
       "      <td>depression</td>\n",
       "      <td>For every upvote I get on this post, I'll stay...</td>\n",
       "      <td>I know it's baity. But honestly I'm desperate ...</td>\n",
       "      <td>chj5ux</td>\n",
       "      <td>NaN</td>\n",
       "      <td>[removed]</td>\n",
       "      <td>595.0</td>\n",
       "      <td>1564032866.0</td>\n",
       "    </tr>\n",
       "    <tr>\n",
       "      <td>2</td>\n",
       "      <td>allthatglitters221</td>\n",
       "      <td>5863</td>\n",
       "      <td>2019-07-25 04:51:58</td>\n",
       "      <td>depression</td>\n",
       "      <td>For every upvote I get on this post, I'll stay...</td>\n",
       "      <td>I know it's baity. But honestly I'm desperate ...</td>\n",
       "      <td>chj5ux</td>\n",
       "      <td>NaN</td>\n",
       "      <td>[removed]</td>\n",
       "      <td>86.0</td>\n",
       "      <td>False</td>\n",
       "    </tr>\n",
       "    <tr>\n",
       "      <td>3</td>\n",
       "      <td>allthatglitters221</td>\n",
       "      <td>5863</td>\n",
       "      <td>2019-07-25 04:51:58</td>\n",
       "      <td>depression</td>\n",
       "      <td>For every upvote I get on this post, I'll stay...</td>\n",
       "      <td>I know it's baity. But honestly I'm desperate ...</td>\n",
       "      <td>chj5ux</td>\n",
       "      <td>NaN</td>\n",
       "      <td>[removed]</td>\n",
       "      <td>112.0</td>\n",
       "      <td>False</td>\n",
       "    </tr>\n",
       "    <tr>\n",
       "      <td>4</td>\n",
       "      <td>allthatglitters221</td>\n",
       "      <td>5863</td>\n",
       "      <td>2019-07-25 04:51:58</td>\n",
       "      <td>depression</td>\n",
       "      <td>For every upvote I get on this post, I'll stay...</td>\n",
       "      <td>I know it's baity. But honestly I'm desperate ...</td>\n",
       "      <td>chj5ux</td>\n",
       "      <td>NaN</td>\n",
       "      <td>[removed]</td>\n",
       "      <td>55.0</td>\n",
       "      <td>False</td>\n",
       "    </tr>\n",
       "  </tbody>\n",
       "</table>\n",
       "</div>"
      ],
      "text/plain": [
       "               author score              created   subreddit  \\\n",
       "0  allthatglitters221  5863  2019-07-25 04:51:58  depression   \n",
       "1  allthatglitters221  5863  2019-07-25 04:51:58  depression   \n",
       "2  allthatglitters221  5863  2019-07-25 04:51:58  depression   \n",
       "3  allthatglitters221  5863  2019-07-25 04:51:58  depression   \n",
       "4  allthatglitters221  5863  2019-07-25 04:51:58  depression   \n",
       "\n",
       "                                               title  \\\n",
       "0  For every upvote I get on this post, I'll stay...   \n",
       "1  For every upvote I get on this post, I'll stay...   \n",
       "2  For every upvote I get on this post, I'll stay...   \n",
       "3  For every upvote I get on this post, I'll stay...   \n",
       "4  For every upvote I get on this post, I'll stay...   \n",
       "\n",
       "                                                body      id comment_author  \\\n",
       "0  I know it's baity. But honestly I'm desperate ...  chj5ux            NaN   \n",
       "1  I know it's baity. But honestly I'm desperate ...  chj5ux            NaN   \n",
       "2  I know it's baity. But honestly I'm desperate ...  chj5ux            NaN   \n",
       "3  I know it's baity. But honestly I'm desperate ...  chj5ux            NaN   \n",
       "4  I know it's baity. But honestly I'm desperate ...  chj5ux            NaN   \n",
       "\n",
       "  comment_body  comment_score comment_edited  \n",
       "0    [removed]          357.0          False  \n",
       "1    [removed]          595.0   1564032866.0  \n",
       "2    [removed]           86.0          False  \n",
       "3    [removed]          112.0          False  \n",
       "4    [removed]           55.0          False  "
      ]
     },
     "execution_count": 6,
     "metadata": {},
     "output_type": "execute_result"
    }
   ],
   "source": [
    "df = df.drop(['Unnamed: 0'], axis=1)\n",
    "df.head()\n"
   ]
  },
  {
   "cell_type": "code",
   "execution_count": 7,
   "metadata": {
    "ExecuteTime": {
     "end_time": "2019-09-27T19:44:38.103372Z",
     "start_time": "2019-09-27T19:44:38.067571Z"
    },
    "pycharm": {
     "is_executing": false,
     "name": "#%%\n"
    }
   },
   "outputs": [
    {
     "data": {
      "text/plain": [
       "(335653, 11)"
      ]
     },
     "execution_count": 7,
     "metadata": {},
     "output_type": "execute_result"
    }
   ],
   "source": [
    "df.shape"
   ]
  },
  {
   "cell_type": "code",
   "execution_count": null,
   "metadata": {},
   "outputs": [],
   "source": []
  }
 ],
 "metadata": {
  "kernelspec": {
   "display_name": "Python 3",
   "language": "python",
   "name": "python3"
  },
  "language_info": {
   "codemirror_mode": {
    "name": "ipython",
    "version": 3
   },
   "file_extension": ".py",
   "mimetype": "text/x-python",
   "name": "python",
   "nbconvert_exporter": "python",
   "pygments_lexer": "ipython3",
   "version": "3.7.4"
  },
  "pycharm": {
   "stem_cell": {
    "cell_type": "raw",
    "source": [],
    "metadata": {
     "collapsed": false
    }
   }
  }
 },
 "nbformat": 4,
 "nbformat_minor": 1
}