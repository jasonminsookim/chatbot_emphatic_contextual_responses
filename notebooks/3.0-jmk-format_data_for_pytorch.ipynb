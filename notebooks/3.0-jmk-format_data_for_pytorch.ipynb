{
 "cells": [
  {
   "cell_type": "markdown",
   "metadata": {},
   "source": [
    "# Import Libraries and Data"
   ]
  },
  {
   "cell_type": "code",
   "execution_count": 10,
   "metadata": {
    "ExecuteTime": {
     "end_time": "2019-10-02T01:17:51.514294Z",
     "start_time": "2019-10-02T01:17:23.692690Z"
    }
   },
   "outputs": [],
   "source": [
    "import pandas as pd\n",
    "import numpy as np\n",
    "import os\n",
    "\n",
    "df = pd.read_csv(\"../data/interim/filtered_reddit_scrape.csv\", low_memory =False)"
   ]
  },
  {
   "cell_type": "code",
   "execution_count": 11,
   "metadata": {
    "ExecuteTime": {
     "end_time": "2019-10-02T01:17:51.521696Z",
     "start_time": "2019-10-02T01:17:51.516491Z"
    }
   },
   "outputs": [],
   "source": [
    "def extract_sentence_pairs(row):\n",
    "    return [row['body'],row['comment_body']]\n",
    "    "
   ]
  },
  {
   "cell_type": "code",
   "execution_count": 12,
   "metadata": {
    "ExecuteTime": {
     "end_time": "2019-10-02T01:17:57.143041Z",
     "start_time": "2019-10-02T01:17:51.527670Z"
    }
   },
   "outputs": [
    {
     "data": {
      "text/plain": [
       "0         [It’s a constant sense of wanting to go somewh...\n",
       "1         [It’s a constant sense of wanting to go somewh...\n",
       "2         [It’s a constant sense of wanting to go somewh...\n",
       "3         [It’s a constant sense of wanting to go somewh...\n",
       "4         [It’s a constant sense of wanting to go somewh...\n",
       "                                ...                        \n",
       "209569    [So someone on r/suicidewatch has said he thin...\n",
       "209570    [[deleted], Hey, I found you. Guess this subre...\n",
       "209571    [[removed], I used Paxil and Celexa. Paxil was...\n",
       "209572    [nan, If you really mean involuntary, then I w...\n",
       "209573    [nan, The Obsessive-Compulsive Disorder (OCD) ...\n",
       "Length: 209574, dtype: object"
      ]
     },
     "execution_count": 12,
     "metadata": {},
     "output_type": "execute_result"
    }
   ],
   "source": [
    "df.apply(extract_sentence_pairs,axis=1)"
   ]
  }
 ],
 "metadata": {
  "kernelspec": {
   "display_name": "Python 3",
   "language": "python",
   "name": "python3"
  },
  "language_info": {
   "codemirror_mode": {
    "name": "ipython",
    "version": 3
   },
   "file_extension": ".py",
   "mimetype": "text/x-python",
   "name": "python",
   "nbconvert_exporter": "python",
   "pygments_lexer": "ipython3",
   "version": "3.7.4"
  }
 },
 "nbformat": 4,
 "nbformat_minor": 2
}
