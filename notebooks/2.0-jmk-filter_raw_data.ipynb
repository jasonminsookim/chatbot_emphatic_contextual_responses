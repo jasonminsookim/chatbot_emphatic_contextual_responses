{
 "cells": [
  {
   "cell_type": "markdown",
   "metadata": {},
   "source": [
    "# 1. Load Libraries and Data"
   ]
  },
  {
   "cell_type": "code",
   "execution_count": 2,
   "metadata": {
    "ExecuteTime": {
     "end_time": "2019-10-02T01:20:00.181583Z",
     "start_time": "2019-10-02T01:19:30.434444Z"
    },
    "pycharm": {
     "is_executing": false
    }
   },
   "outputs": [
    {
     "name": "stderr",
     "output_type": "stream",
     "text": [
      "/Users/jasonkim/.conda/envs/chatbot_emphatic_contextual_responses/lib/python3.7/site-packages/IPython/core/interactiveshell.py:3058: DtypeWarning: Columns (0,2) have mixed types. Specify dtype option on import or set low_memory=False.\n",
      "  interactivity=interactivity, compiler=compiler, result=result)\n"
     ]
    }
   ],
   "source": [
    "import pandas as pd\n",
    "import seaborn as sns\n",
    "\n",
    "df = pd.read_csv(\"../data/raw/scraped_reddit_submissions_comments.csv\")\n"
   ]
  },
  {
   "cell_type": "code",
   "execution_count": 3,
   "metadata": {
    "ExecuteTime": {
     "end_time": "2019-10-02T01:20:00.374084Z",
     "start_time": "2019-10-02T01:20:00.186007Z"
    },
    "pycharm": {
     "is_executing": false,
     "name": "#%%\n"
    }
   },
   "outputs": [
    {
     "data": {
      "text/html": [
       "<div>\n",
       "<style scoped>\n",
       "    .dataframe tbody tr th:only-of-type {\n",
       "        vertical-align: middle;\n",
       "    }\n",
       "\n",
       "    .dataframe tbody tr th {\n",
       "        vertical-align: top;\n",
       "    }\n",
       "\n",
       "    .dataframe thead th {\n",
       "        text-align: right;\n",
       "    }\n",
       "</style>\n",
       "<table border=\"1\" class=\"dataframe\">\n",
       "  <thead>\n",
       "    <tr style=\"text-align: right;\">\n",
       "      <th></th>\n",
       "      <th>author</th>\n",
       "      <th>score</th>\n",
       "      <th>created</th>\n",
       "      <th>subreddit</th>\n",
       "      <th>title</th>\n",
       "      <th>body</th>\n",
       "      <th>id</th>\n",
       "      <th>comment_author</th>\n",
       "      <th>comment_body</th>\n",
       "      <th>comment_score</th>\n",
       "      <th>comment_edited</th>\n",
       "    </tr>\n",
       "  </thead>\n",
       "  <tbody>\n",
       "    <tr>\n",
       "      <td>0</td>\n",
       "      <td>allthatglitters221</td>\n",
       "      <td>5863</td>\n",
       "      <td>2019-07-25 04:51:58</td>\n",
       "      <td>depression</td>\n",
       "      <td>For every upvote I get on this post, I'll stay...</td>\n",
       "      <td>I know it's baity. But honestly I'm desperate ...</td>\n",
       "      <td>chj5ux</td>\n",
       "      <td>NaN</td>\n",
       "      <td>[removed]</td>\n",
       "      <td>353.0</td>\n",
       "      <td>False</td>\n",
       "    </tr>\n",
       "    <tr>\n",
       "      <td>1</td>\n",
       "      <td>allthatglitters221</td>\n",
       "      <td>5863</td>\n",
       "      <td>2019-07-25 04:51:58</td>\n",
       "      <td>depression</td>\n",
       "      <td>For every upvote I get on this post, I'll stay...</td>\n",
       "      <td>I know it's baity. But honestly I'm desperate ...</td>\n",
       "      <td>chj5ux</td>\n",
       "      <td>NaN</td>\n",
       "      <td>[removed]</td>\n",
       "      <td>590.0</td>\n",
       "      <td>1564032866.0</td>\n",
       "    </tr>\n",
       "    <tr>\n",
       "      <td>2</td>\n",
       "      <td>allthatglitters221</td>\n",
       "      <td>5863</td>\n",
       "      <td>2019-07-25 04:51:58</td>\n",
       "      <td>depression</td>\n",
       "      <td>For every upvote I get on this post, I'll stay...</td>\n",
       "      <td>I know it's baity. But honestly I'm desperate ...</td>\n",
       "      <td>chj5ux</td>\n",
       "      <td>NaN</td>\n",
       "      <td>[removed]</td>\n",
       "      <td>89.0</td>\n",
       "      <td>False</td>\n",
       "    </tr>\n",
       "    <tr>\n",
       "      <td>3</td>\n",
       "      <td>allthatglitters221</td>\n",
       "      <td>5863</td>\n",
       "      <td>2019-07-25 04:51:58</td>\n",
       "      <td>depression</td>\n",
       "      <td>For every upvote I get on this post, I'll stay...</td>\n",
       "      <td>I know it's baity. But honestly I'm desperate ...</td>\n",
       "      <td>chj5ux</td>\n",
       "      <td>NaN</td>\n",
       "      <td>[removed]</td>\n",
       "      <td>115.0</td>\n",
       "      <td>False</td>\n",
       "    </tr>\n",
       "    <tr>\n",
       "      <td>4</td>\n",
       "      <td>allthatglitters221</td>\n",
       "      <td>5863</td>\n",
       "      <td>2019-07-25 04:51:58</td>\n",
       "      <td>depression</td>\n",
       "      <td>For every upvote I get on this post, I'll stay...</td>\n",
       "      <td>I know it's baity. But honestly I'm desperate ...</td>\n",
       "      <td>chj5ux</td>\n",
       "      <td>NaN</td>\n",
       "      <td>[removed]</td>\n",
       "      <td>53.0</td>\n",
       "      <td>False</td>\n",
       "    </tr>\n",
       "  </tbody>\n",
       "</table>\n",
       "</div>"
      ],
      "text/plain": [
       "               author score              created   subreddit  \\\n",
       "0  allthatglitters221  5863  2019-07-25 04:51:58  depression   \n",
       "1  allthatglitters221  5863  2019-07-25 04:51:58  depression   \n",
       "2  allthatglitters221  5863  2019-07-25 04:51:58  depression   \n",
       "3  allthatglitters221  5863  2019-07-25 04:51:58  depression   \n",
       "4  allthatglitters221  5863  2019-07-25 04:51:58  depression   \n",
       "\n",
       "                                               title  \\\n",
       "0  For every upvote I get on this post, I'll stay...   \n",
       "1  For every upvote I get on this post, I'll stay...   \n",
       "2  For every upvote I get on this post, I'll stay...   \n",
       "3  For every upvote I get on this post, I'll stay...   \n",
       "4  For every upvote I get on this post, I'll stay...   \n",
       "\n",
       "                                                body      id comment_author  \\\n",
       "0  I know it's baity. But honestly I'm desperate ...  chj5ux            NaN   \n",
       "1  I know it's baity. But honestly I'm desperate ...  chj5ux            NaN   \n",
       "2  I know it's baity. But honestly I'm desperate ...  chj5ux            NaN   \n",
       "3  I know it's baity. But honestly I'm desperate ...  chj5ux            NaN   \n",
       "4  I know it's baity. But honestly I'm desperate ...  chj5ux            NaN   \n",
       "\n",
       "  comment_body  comment_score comment_edited  \n",
       "0    [removed]          353.0          False  \n",
       "1    [removed]          590.0   1564032866.0  \n",
       "2    [removed]           89.0          False  \n",
       "3    [removed]          115.0          False  \n",
       "4    [removed]           53.0          False  "
      ]
     },
     "execution_count": 3,
     "metadata": {},
     "output_type": "execute_result"
    }
   ],
   "source": [
    "df = df.drop(['Unnamed: 0'], axis=1)\n",
    "df.head()\n"
   ]
  },
  {
   "cell_type": "code",
   "execution_count": 4,
   "metadata": {
    "ExecuteTime": {
     "end_time": "2019-10-02T01:20:00.395480Z",
     "start_time": "2019-10-02T01:20:00.377451Z"
    }
   },
   "outputs": [
    {
     "data": {
      "text/plain": [
       "(218246, 11)"
      ]
     },
     "execution_count": 4,
     "metadata": {},
     "output_type": "execute_result"
    }
   ],
   "source": [
    "df.shape"
   ]
  },
  {
   "cell_type": "markdown",
   "metadata": {},
   "source": [
    "# 2. Data Wrangling\n",
    "## 2.1 Drop instances where comments that have been deleted"
   ]
  },
  {
   "cell_type": "code",
   "execution_count": 9,
   "metadata": {
    "ExecuteTime": {
     "end_time": "2019-10-02T01:20:37.260368Z",
     "start_time": "2019-10-02T01:20:37.182175Z"
    }
   },
   "outputs": [
    {
     "data": {
      "text/plain": [
       "(209574, 11)"
      ]
     },
     "execution_count": 9,
     "metadata": {},
     "output_type": "execute_result"
    }
   ],
   "source": [
    "filt_df = df[~df['comment_body'].isin(['[removed]', '[deleted]'])]\n",
    "filt_df.shape"
   ]
  },
  {
   "cell_type": "code",
   "execution_count": 10,
   "metadata": {
    "ExecuteTime": {
     "end_time": "2019-10-02T01:20:37.423344Z",
     "start_time": "2019-10-02T01:20:37.400941Z"
    },
    "scrolled": true
   },
   "outputs": [
    {
     "data": {
      "text/html": [
       "<div>\n",
       "<style scoped>\n",
       "    .dataframe tbody tr th:only-of-type {\n",
       "        vertical-align: middle;\n",
       "    }\n",
       "\n",
       "    .dataframe tbody tr th {\n",
       "        vertical-align: top;\n",
       "    }\n",
       "\n",
       "    .dataframe thead th {\n",
       "        text-align: right;\n",
       "    }\n",
       "</style>\n",
       "<table border=\"1\" class=\"dataframe\">\n",
       "  <thead>\n",
       "    <tr style=\"text-align: right;\">\n",
       "      <th></th>\n",
       "      <th>author</th>\n",
       "      <th>score</th>\n",
       "      <th>created</th>\n",
       "      <th>subreddit</th>\n",
       "      <th>title</th>\n",
       "      <th>body</th>\n",
       "      <th>id</th>\n",
       "      <th>comment_author</th>\n",
       "      <th>comment_body</th>\n",
       "      <th>comment_score</th>\n",
       "      <th>comment_edited</th>\n",
       "    </tr>\n",
       "  </thead>\n",
       "  <tbody>\n",
       "    <tr>\n",
       "      <td>15</td>\n",
       "      <td>presti-ravioli</td>\n",
       "      <td>4802</td>\n",
       "      <td>2019-08-12 20:50:20</td>\n",
       "      <td>depression</td>\n",
       "      <td>Depression for me is a constant feeling of wan...</td>\n",
       "      <td>It’s a constant sense of wanting to go somewhe...</td>\n",
       "      <td>cpidz8</td>\n",
       "      <td>RuneRaccoon</td>\n",
       "      <td>That's a good description of it. Good luck on ...</td>\n",
       "      <td>516.0</td>\n",
       "      <td>False</td>\n",
       "    </tr>\n",
       "    <tr>\n",
       "      <td>16</td>\n",
       "      <td>presti-ravioli</td>\n",
       "      <td>4802</td>\n",
       "      <td>2019-08-12 20:50:20</td>\n",
       "      <td>depression</td>\n",
       "      <td>Depression for me is a constant feeling of wan...</td>\n",
       "      <td>It’s a constant sense of wanting to go somewhe...</td>\n",
       "      <td>cpidz8</td>\n",
       "      <td>Kavlone</td>\n",
       "      <td>this is the first post i’ve clicked on from th...</td>\n",
       "      <td>497.0</td>\n",
       "      <td>False</td>\n",
       "    </tr>\n",
       "    <tr>\n",
       "      <td>17</td>\n",
       "      <td>presti-ravioli</td>\n",
       "      <td>4802</td>\n",
       "      <td>2019-08-12 20:50:20</td>\n",
       "      <td>depression</td>\n",
       "      <td>Depression for me is a constant feeling of wan...</td>\n",
       "      <td>It’s a constant sense of wanting to go somewhe...</td>\n",
       "      <td>cpidz8</td>\n",
       "      <td>bennynthejetsss</td>\n",
       "      <td>There’s a name for this phenomenon. It’s calle...</td>\n",
       "      <td>217.0</td>\n",
       "      <td>1565648011.0</td>\n",
       "    </tr>\n",
       "    <tr>\n",
       "      <td>18</td>\n",
       "      <td>presti-ravioli</td>\n",
       "      <td>4802</td>\n",
       "      <td>2019-08-12 20:50:20</td>\n",
       "      <td>depression</td>\n",
       "      <td>Depression for me is a constant feeling of wan...</td>\n",
       "      <td>It’s a constant sense of wanting to go somewhe...</td>\n",
       "      <td>cpidz8</td>\n",
       "      <td>AvoxGirl</td>\n",
       "      <td>Accurate. I saw a post recently that said “Dep...</td>\n",
       "      <td>129.0</td>\n",
       "      <td>False</td>\n",
       "    </tr>\n",
       "    <tr>\n",
       "      <td>19</td>\n",
       "      <td>presti-ravioli</td>\n",
       "      <td>4802</td>\n",
       "      <td>2019-08-12 20:50:20</td>\n",
       "      <td>depression</td>\n",
       "      <td>Depression for me is a constant feeling of wan...</td>\n",
       "      <td>It’s a constant sense of wanting to go somewhe...</td>\n",
       "      <td>cpidz8</td>\n",
       "      <td>thethirdman3</td>\n",
       "      <td>I’m the EXACT same way. “That place has gotta ...</td>\n",
       "      <td>49.0</td>\n",
       "      <td>False</td>\n",
       "    </tr>\n",
       "  </tbody>\n",
       "</table>\n",
       "</div>"
      ],
      "text/plain": [
       "            author score              created   subreddit  \\\n",
       "15  presti-ravioli  4802  2019-08-12 20:50:20  depression   \n",
       "16  presti-ravioli  4802  2019-08-12 20:50:20  depression   \n",
       "17  presti-ravioli  4802  2019-08-12 20:50:20  depression   \n",
       "18  presti-ravioli  4802  2019-08-12 20:50:20  depression   \n",
       "19  presti-ravioli  4802  2019-08-12 20:50:20  depression   \n",
       "\n",
       "                                                title  \\\n",
       "15  Depression for me is a constant feeling of wan...   \n",
       "16  Depression for me is a constant feeling of wan...   \n",
       "17  Depression for me is a constant feeling of wan...   \n",
       "18  Depression for me is a constant feeling of wan...   \n",
       "19  Depression for me is a constant feeling of wan...   \n",
       "\n",
       "                                                 body      id  \\\n",
       "15  It’s a constant sense of wanting to go somewhe...  cpidz8   \n",
       "16  It’s a constant sense of wanting to go somewhe...  cpidz8   \n",
       "17  It’s a constant sense of wanting to go somewhe...  cpidz8   \n",
       "18  It’s a constant sense of wanting to go somewhe...  cpidz8   \n",
       "19  It’s a constant sense of wanting to go somewhe...  cpidz8   \n",
       "\n",
       "     comment_author                                       comment_body  \\\n",
       "15      RuneRaccoon  That's a good description of it. Good luck on ...   \n",
       "16          Kavlone  this is the first post i’ve clicked on from th...   \n",
       "17  bennynthejetsss  There’s a name for this phenomenon. It’s calle...   \n",
       "18         AvoxGirl  Accurate. I saw a post recently that said “Dep...   \n",
       "19     thethirdman3  I’m the EXACT same way. “That place has gotta ...   \n",
       "\n",
       "    comment_score comment_edited  \n",
       "15          516.0          False  \n",
       "16          497.0          False  \n",
       "17          217.0   1565648011.0  \n",
       "18          129.0          False  \n",
       "19           49.0          False  "
      ]
     },
     "execution_count": 10,
     "metadata": {},
     "output_type": "execute_result"
    }
   ],
   "source": [
    "filt_df.head(5)"
   ]
  },
  {
   "cell_type": "markdown",
   "metadata": {},
   "source": [
    "## 2.2 Drop instances where submission body has been deleted"
   ]
  },
  {
   "cell_type": "code",
   "execution_count": 12,
   "metadata": {
    "ExecuteTime": {
     "end_time": "2019-10-02T01:20:46.756833Z",
     "start_time": "2019-10-02T01:20:46.686885Z"
    }
   },
   "outputs": [
    {
     "data": {
      "text/plain": [
       "(203923, 11)"
      ]
     },
     "execution_count": 12,
     "metadata": {},
     "output_type": "execute_result"
    }
   ],
   "source": [
    "filt_df = filt_df[~filt_df['body'].isin(['[removed]', '[deleted]'])]\n",
    "filt_df.shape"
   ]
  },
  {
   "cell_type": "markdown",
   "metadata": {},
   "source": [
    "# 3. Distribution of Comments"
   ]
  },
  {
   "cell_type": "code",
   "execution_count": 8,
   "metadata": {
    "ExecuteTime": {
     "end_time": "2019-10-02T01:20:00.832028Z",
     "start_time": "2019-10-02T01:20:00.716670Z"
    }
   },
   "outputs": [
    {
     "data": {
      "text/plain": [
       "depression        0.541992\n",
       "Anxiety           0.266954\n",
       "OCD               0.127419\n",
       "BodyAcceptance    0.060537\n",
       "affirmations      0.003097\n",
       "Name: subreddit, dtype: float64"
      ]
     },
     "execution_count": 8,
     "metadata": {},
     "output_type": "execute_result"
    }
   ],
   "source": [
    "filt_df['subreddit'].value_counts(normalize=True)"
   ]
  },
  {
   "cell_type": "markdown",
   "metadata": {},
   "source": [
    "- A bulk of the comments are from the depression and anxiety subreddit."
   ]
  },
  {
   "cell_type": "markdown",
   "metadata": {},
   "source": [
    "# 4. Save df as csv"
   ]
  },
  {
   "cell_type": "code",
   "execution_count": 13,
   "metadata": {
    "ExecuteTime": {
     "end_time": "2019-10-02T01:22:22.600562Z",
     "start_time": "2019-10-02T01:21:53.983806Z"
    }
   },
   "outputs": [],
   "source": [
    "filt_df.to_csv(\"../data/interim/filtered_reddit_scrape.csv\", index=False)"
   ]
  }
 ],
 "metadata": {
  "kernelspec": {
   "display_name": "Python 3",
   "language": "python",
   "name": "python3"
  },
  "language_info": {
   "codemirror_mode": {
    "name": "ipython",
    "version": 3
   },
   "file_extension": ".py",
   "mimetype": "text/x-python",
   "name": "python",
   "nbconvert_exporter": "python",
   "pygments_lexer": "ipython3",
   "version": "3.7.4"
  },
  "pycharm": {
   "stem_cell": {
    "cell_type": "raw",
    "metadata": {
     "collapsed": false
    },
    "source": []
   }
  }
 },
 "nbformat": 4,
 "nbformat_minor": 1
}
