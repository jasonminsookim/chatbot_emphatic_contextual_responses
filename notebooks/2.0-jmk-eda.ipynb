{
 "cells": [
  {
   "cell_type": "code",
   "execution_count": 11,
   "metadata": {
    "collapsed": true,
    "pycharm": {
     "is_executing": false
    }
   },
   "outputs": [],
   "source": [
    "import pandas as pd\n",
    "import searborn as sns\n",
    "\n",
    "\n",
    "df = pd.read_csv(\"../data/scraped_data/reddit_submissions_comments.csv\")\n",
    "\n"
   ]
  },
  {
   "cell_type": "code",
   "execution_count": 15,
   "outputs": [
    {
     "data": {
      "text/plain": "               author score              created   subreddit  \\\n0  allthatglitters221  5863  2019-07-25 04:51:58  depression   \n1  allthatglitters221  5863  2019-07-25 04:51:58  depression   \n2  allthatglitters221  5863  2019-07-25 04:51:58  depression   \n3  allthatglitters221  5863  2019-07-25 04:51:58  depression   \n4  allthatglitters221  5863  2019-07-25 04:51:58  depression   \n\n                                               title  \\\n0  For every upvote I get on this post, I'll stay...   \n1  For every upvote I get on this post, I'll stay...   \n2  For every upvote I get on this post, I'll stay...   \n3  For every upvote I get on this post, I'll stay...   \n4  For every upvote I get on this post, I'll stay...   \n\n                                                body      id comment_author  \\\n0  I know it's baity. But honestly I'm desperate ...  chj5ux            NaN   \n1  I know it's baity. But honestly I'm desperate ...  chj5ux            NaN   \n2  I know it's baity. But honestly I'm desperate ...  chj5ux            NaN   \n3  I know it's baity. But honestly I'm desperate ...  chj5ux            NaN   \n4  I know it's baity. But honestly I'm desperate ...  chj5ux            NaN   \n\n  comment_body  comment_score comment_edited  \n0    [removed]          357.0          False  \n1    [removed]          595.0   1564032866.0  \n2    [removed]           86.0          False  \n3    [removed]          112.0          False  \n4    [removed]           55.0          False  ",
      "text/html": "<div>\n<style scoped>\n    .dataframe tbody tr th:only-of-type {\n        vertical-align: middle;\n    }\n\n    .dataframe tbody tr th {\n        vertical-align: top;\n    }\n\n    .dataframe thead th {\n        text-align: right;\n    }\n</style>\n<table border=\"1\" class=\"dataframe\">\n  <thead>\n    <tr style=\"text-align: right;\">\n      <th></th>\n      <th>author</th>\n      <th>score</th>\n      <th>created</th>\n      <th>subreddit</th>\n      <th>title</th>\n      <th>body</th>\n      <th>id</th>\n      <th>comment_author</th>\n      <th>comment_body</th>\n      <th>comment_score</th>\n      <th>comment_edited</th>\n    </tr>\n  </thead>\n  <tbody>\n    <tr>\n      <td>0</td>\n      <td>allthatglitters221</td>\n      <td>5863</td>\n      <td>2019-07-25 04:51:58</td>\n      <td>depression</td>\n      <td>For every upvote I get on this post, I'll stay...</td>\n      <td>I know it's baity. But honestly I'm desperate ...</td>\n      <td>chj5ux</td>\n      <td>NaN</td>\n      <td>[removed]</td>\n      <td>357.0</td>\n      <td>False</td>\n    </tr>\n    <tr>\n      <td>1</td>\n      <td>allthatglitters221</td>\n      <td>5863</td>\n      <td>2019-07-25 04:51:58</td>\n      <td>depression</td>\n      <td>For every upvote I get on this post, I'll stay...</td>\n      <td>I know it's baity. But honestly I'm desperate ...</td>\n      <td>chj5ux</td>\n      <td>NaN</td>\n      <td>[removed]</td>\n      <td>595.0</td>\n      <td>1564032866.0</td>\n    </tr>\n    <tr>\n      <td>2</td>\n      <td>allthatglitters221</td>\n      <td>5863</td>\n      <td>2019-07-25 04:51:58</td>\n      <td>depression</td>\n      <td>For every upvote I get on this post, I'll stay...</td>\n      <td>I know it's baity. But honestly I'm desperate ...</td>\n      <td>chj5ux</td>\n      <td>NaN</td>\n      <td>[removed]</td>\n      <td>86.0</td>\n      <td>False</td>\n    </tr>\n    <tr>\n      <td>3</td>\n      <td>allthatglitters221</td>\n      <td>5863</td>\n      <td>2019-07-25 04:51:58</td>\n      <td>depression</td>\n      <td>For every upvote I get on this post, I'll stay...</td>\n      <td>I know it's baity. But honestly I'm desperate ...</td>\n      <td>chj5ux</td>\n      <td>NaN</td>\n      <td>[removed]</td>\n      <td>112.0</td>\n      <td>False</td>\n    </tr>\n    <tr>\n      <td>4</td>\n      <td>allthatglitters221</td>\n      <td>5863</td>\n      <td>2019-07-25 04:51:58</td>\n      <td>depression</td>\n      <td>For every upvote I get on this post, I'll stay...</td>\n      <td>I know it's baity. But honestly I'm desperate ...</td>\n      <td>chj5ux</td>\n      <td>NaN</td>\n      <td>[removed]</td>\n      <td>55.0</td>\n      <td>False</td>\n    </tr>\n  </tbody>\n</table>\n</div>"
     },
     "metadata": {},
     "output_type": "execute_result",
     "execution_count": 15
    }
   ],
   "source": [
    "df = df.drop(['Unnamed: 0'], axis=1)\n",
    "df.head()\n"
   ],
   "metadata": {
    "collapsed": false,
    "pycharm": {
     "name": "#%%\n",
     "is_executing": false
    }
   }
  },
  {
   "cell_type": "code",
   "execution_count": 16,
   "outputs": [
    {
     "data": {
      "text/plain": "(335653, 11)"
     },
     "metadata": {},
     "output_type": "execute_result",
     "execution_count": 16
    }
   ],
   "source": [
    "df.shape"
   ],
   "metadata": {
    "collapsed": false,
    "pycharm": {
     "name": "#%%\n",
     "is_executing": false
    }
   }
  }
 ],
 "metadata": {
  "kernelspec": {
   "display_name": "Python 3",
   "language": "python",
   "name": "python3"
  },
  "language_info": {
   "codemirror_mode": {
    "name": "ipython",
    "version": 2
   },
   "file_extension": ".py",
   "mimetype": "text/x-python",
   "name": "python",
   "nbconvert_exporter": "python",
   "pygments_lexer": "ipython2",
   "version": "2.7.6"
  },
  "pycharm": {
   "stem_cell": {
    "cell_type": "raw",
    "source": [],
    "metadata": {
     "collapsed": false
    }
   }
  }
 },
 "nbformat": 4,
 "nbformat_minor": 0
}