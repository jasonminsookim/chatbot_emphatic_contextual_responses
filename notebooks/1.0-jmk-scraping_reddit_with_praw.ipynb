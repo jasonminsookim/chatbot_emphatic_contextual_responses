{
 "cells": [
  {
   "cell_type": "markdown",
   "metadata": {},
   "source": [
    "# 1. Libraries and Configuration"
   ]
  },
  {
   "cell_type": "code",
   "execution_count": 9,
   "metadata": {
    "ExecuteTime": {
     "end_time": "2019-09-18T18:06:17.271073Z",
     "start_time": "2019-09-18T18:06:17.264855Z"
    }
   },
   "outputs": [],
   "source": [
    "import praw\n",
    "import configparser"
   ]
  },
  {
   "cell_type": "code",
   "execution_count": 10,
   "metadata": {
    "ExecuteTime": {
     "end_time": "2019-09-18T18:06:17.472473Z",
     "start_time": "2019-09-18T18:06:17.458767Z"
    }
   },
   "outputs": [
    {
     "data": {
      "text/plain": [
       "['../praw_config.ini']"
      ]
     },
     "execution_count": 10,
     "metadata": {},
     "output_type": "execute_result"
    }
   ],
   "source": [
    "config = configparser.ConfigParser()\n",
    "config.read('../praw_config.ini')"
   ]
  },
  {
   "cell_type": "markdown",
   "metadata": {},
   "source": [
    "# 2. Load Praw"
   ]
  },
  {
   "cell_type": "code",
   "execution_count": 11,
   "metadata": {
    "ExecuteTime": {
     "end_time": "2019-09-18T18:06:18.023064Z",
     "start_time": "2019-09-18T18:06:18.017822Z"
    }
   },
   "outputs": [],
   "source": [
    "reddit = praw.Reddit(client_id=config['praw_credentials']['client_id'],\n",
    "                     client_secret=config['praw_credentials']['client_secret'],\n",
    "                     redirect_uri='http://localhost:8080',\n",
    "                     user_agent='testscript by jason kim')"
   ]
  },
  {
   "cell_type": "code",
   "execution_count": 12,
   "metadata": {
    "ExecuteTime": {
     "end_time": "2019-09-18T18:06:19.295526Z",
     "start_time": "2019-09-18T18:06:19.282909Z"
    }
   },
   "outputs": [
    {
     "name": "stdout",
     "output_type": "stream",
     "text": [
      "https://www.reddit.com/api/v1/authorize?client_id=BVDpCV0Z6XI9&duration=permanent&redirect_uri=http%3A%2F%2Flocalhost%3A8080&response_type=code&scope=identity&state=...\n"
     ]
    }
   ],
   "source": [
    "print(reddit.auth.url(['identity'], '...', 'permanent'))"
   ]
  }
 ],
 "metadata": {
  "kernelspec": {
   "display_name": "Python 3",
   "language": "python",
   "name": "python3"
  },
  "language_info": {
   "codemirror_mode": {
    "name": "ipython",
    "version": 3
   },
   "file_extension": ".py",
   "mimetype": "text/x-python",
   "name": "python",
   "nbconvert_exporter": "python",
   "pygments_lexer": "ipython3",
   "version": "3.7.3"
  },
  "pycharm": {
   "stem_cell": {
    "cell_type": "raw",
    "metadata": {
     "collapsed": false
    },
    "source": []
   }
  }
 },
 "nbformat": 4,
 "nbformat_minor": 2
}
