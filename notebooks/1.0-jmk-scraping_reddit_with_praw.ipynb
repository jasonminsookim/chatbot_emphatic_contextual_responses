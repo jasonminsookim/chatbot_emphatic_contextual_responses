{
 "cells": [
  {
   "cell_type": "markdown",
   "metadata": {},
   "source": [
    "# 1. Libraries and Configuration"
   ]
  },
  {
   "cell_type": "code",
   "execution_count": 19,
   "metadata": {
    "ExecuteTime": {
     "end_time": "2019-09-18T18:14:22.826695Z",
     "start_time": "2019-09-18T18:14:22.821726Z"
    }
   },
   "outputs": [],
   "source": [
    "import praw\n",
    "import configparser"
   ]
  },
  {
   "cell_type": "code",
   "execution_count": 20,
   "metadata": {
    "ExecuteTime": {
     "end_time": "2019-09-18T18:14:23.062854Z",
     "start_time": "2019-09-18T18:14:23.046375Z"
    }
   },
   "outputs": [
    {
     "data": {
      "text/plain": [
       "['../praw_config.ini']"
      ]
     },
     "execution_count": 20,
     "metadata": {},
     "output_type": "execute_result"
    }
   ],
   "source": [
    "config = configparser.ConfigParser()\n",
    "config.read('../praw_config.ini')"
   ]
  },
  {
   "cell_type": "markdown",
   "metadata": {},
   "source": [
    "# 2. Load Praw"
   ]
  },
  {
   "cell_type": "code",
   "execution_count": 21,
   "metadata": {
    "ExecuteTime": {
     "end_time": "2019-09-18T18:14:24.276519Z",
     "start_time": "2019-09-18T18:14:24.269551Z"
    }
   },
   "outputs": [],
   "source": [
    "reddit = praw.Reddit(client_id=config['praw_credentials']['client_id'],\n",
    "                     client_secret=config['praw_credentials']['client_secret'],\n",
    "                     redirect_uri='http://localhost:8080',\n",
    "                     user_agent='chatbot')"
   ]
  },
  {
   "cell_type": "markdown",
   "metadata": {},
   "source": [
    "# 3. "
   ]
  },
  {
   "cell_type": "code",
   "execution_count": 23,
   "metadata": {
    "ExecuteTime": {
     "end_time": "2019-09-18T18:14:48.815627Z",
     "start_time": "2019-09-18T18:14:48.414263Z"
    },
    "scrolled": true
   },
   "outputs": [
    {
     "name": "stdout",
     "output_type": "stream",
     "text": [
      "Regarding beginner's guides\n",
      "[D] Machine Learning - WAYR (What Are You Reading) - Week 70\n",
      "[P] Gobbli: A Python Framework for Text Classification Projects\n",
      "[R] 3D Ken Burns Effect from a Single Image\n",
      "[P] Access raw pointers of Tensorflow tensors.\n",
      "[P] Using protein sequences to make better classifiers in bioinformatics\n",
      "[Discussion] What is the state-of-the-art for entity extraction and relation extraction?\n",
      "[N] Deconstruct how Google Tulip was built by using serverless tech and machine learning\n",
      "[P] LatentPainter. Paint with ideas instead of pixels!\n",
      "[R] AdvFaces: Adversarial Face Synthesis for Attacking State-of-the-Art Face Recognition Systems\n"
     ]
    }
   ],
   "source": [
    "hot_posts = reddit.subreddit('MachineLearning').hot(limit=10)\n",
    "for post in hot_posts:\n",
    "    print(post.title)"
   ]
  },
  {
   "cell_type": "code",
   "execution_count": null,
   "metadata": {},
   "outputs": [],
   "source": []
  }
 ],
 "metadata": {
  "kernelspec": {
   "display_name": "Python 3",
   "language": "python",
   "name": "python3"
  },
  "language_info": {
   "codemirror_mode": {
    "name": "ipython",
    "version": 3
   },
   "file_extension": ".py",
   "mimetype": "text/x-python",
   "name": "python",
   "nbconvert_exporter": "python",
   "pygments_lexer": "ipython3",
   "version": "3.7.3"
  },
  "pycharm": {
   "stem_cell": {
    "cell_type": "raw",
    "metadata": {
     "collapsed": false
    },
    "source": []
   }
  }
 },
 "nbformat": 4,
 "nbformat_minor": 2
}
